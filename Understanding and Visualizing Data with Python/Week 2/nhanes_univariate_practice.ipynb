{
 "cells": [
  {
   "cell_type": "markdown",
   "metadata": {},
   "source": [
    "# Practice notebook for univariate analysis using NHANES data\n",
    "\n",
    "This notebook will give you the opportunity to perform some univariate analyses on your own using the NHANES.  These analyses are similar to what was done in the week 2 NHANES case study notebook.\n",
    "\n",
    "You can enter your code into the cells that say \"enter your code here\", and you can type responses to the questions into the cells that say \"Type Markdown and Latex\".\n",
    "\n",
    "Note that most of the code that you will need to write below is very similar to code that appears in the case study notebook.  You will need to edit code from that notebook in small ways to adapt it to the prompts below.\n",
    "\n",
    "To get started, we will use the same module imports and read the data in the same way as we did in the case study:"
   ]
  },
  {
   "cell_type": "code",
   "execution_count": 31,
   "metadata": {},
   "outputs": [
    {
     "data": {
      "text/plain": [
       "Index(['SEQN', 'ALQ101', 'ALQ110', 'ALQ130', 'SMQ020', 'RIAGENDR', 'RIDAGEYR',\n",
       "       'RIDRETH1', 'DMDCITZN', 'DMDEDUC2', 'DMDMARTL', 'DMDHHSIZ', 'WTINT2YR',\n",
       "       'SDMVPSU', 'SDMVSTRA', 'INDFMPIR', 'BPXSY1', 'BPXDI1', 'BPXSY2',\n",
       "       'BPXDI2', 'BMXWT', 'BMXHT', 'BMXBMI', 'BMXLEG', 'BMXARML', 'BMXARMC',\n",
       "       'BMXWAIST', 'HIQ210'],\n",
       "      dtype='object')"
      ]
     },
     "execution_count": 31,
     "metadata": {},
     "output_type": "execute_result"
    }
   ],
   "source": [
    "%matplotlib inline\n",
    "import matplotlib.pyplot as plt\n",
    "import seaborn as sns\n",
    "import pandas as pd\n",
    "import statsmodels.api as sm\n",
    "import numpy as np\n",
    "\n",
    "da = pd.read_csv(\"nhanes_2015_2016.csv\")\n",
    "\n",
    "da.columns"
   ]
  },
  {
   "cell_type": "markdown",
   "metadata": {},
   "source": [
    "## Question 1\n",
    "\n",
    "Relabel the marital status variable [DMDMARTL](https://wwwn.cdc.gov/Nchs/Nhanes/2015-2016/DEMO_I.htm#DMDMARTL) to have brief but informative character labels.  Then construct a frequency table of these values for all people, then for women only, and for men only.  Then construct these three frequency tables using only people whose age is between 30 and 40."
   ]
  },
  {
   "cell_type": "code",
   "execution_count": 33,
   "metadata": {},
   "outputs": [
    {
     "name": "stdout",
     "output_type": "stream",
     "text": [
      "Status frequency table - All people\n",
      "\n",
      "Married                2780\n",
      "Never married          1004\n",
      "Divorced                579\n",
      "Living with partner     527\n",
      "Widowed                 396\n",
      "Missing                 261\n",
      "Separated               186\n",
      "Refused                   2\n",
      "Name: DMDMARTLx, dtype: int64 \n",
      "\n",
      "Status frequency table - Male\n",
      "\n",
      "Married                1477\n",
      "Never married           484\n",
      "Living with partner     265\n",
      "Divorced                229\n",
      "Missing                 135\n",
      "Widowed                 100\n",
      "Separated                68\n",
      "Refused                   1\n",
      "Name: DMDMARTLx, dtype: int64 \n",
      "\n",
      "Status frequency table - Female\n",
      "\n",
      "Married                1303\n",
      "Never married           520\n",
      "Divorced                350\n",
      "Widowed                 296\n",
      "Living with partner     262\n",
      "Missing                 126\n",
      "Separated               118\n",
      "Refused                   1\n",
      "Name: DMDMARTLx, dtype: int64 \n",
      "\n",
      "Status frequency table - All people with age between 30-40\n",
      "\n",
      "Married                560\n",
      "Never married          217\n",
      "Living with partner    143\n",
      "Divorced                70\n",
      "Separated               30\n",
      "Widowed                  5\n",
      "Refused                  1\n",
      "Name: DMDMARTLx, dtype: int64 \n",
      "\n",
      "Status frequency table - Men with age between 30-40\n",
      "\n",
      "Married                275\n",
      "Never married          101\n",
      "Living with partner     78\n",
      "Divorced                24\n",
      "Separated               12\n",
      "Widowed                  3\n",
      "Refused                  1\n",
      "Name: DMDMARTLx, dtype: int64 \n",
      "\n",
      "Status frequency table - Women with age between 30-40\n",
      "\n",
      "Married                285\n",
      "Never married          116\n",
      "Living with partner     65\n",
      "Divorced                46\n",
      "Separated               18\n",
      "Widowed                  2\n",
      "Name: DMDMARTLx, dtype: int64 \n",
      "\n"
     ]
    },
    {
     "data": {
      "text/plain": [
       "Index(['SEQN', 'ALQ101', 'ALQ110', 'ALQ130', 'SMQ020', 'RIAGENDR', 'RIDAGEYR',\n",
       "       'RIDRETH1', 'DMDCITZN', 'DMDEDUC2', 'DMDMARTL', 'DMDHHSIZ', 'WTINT2YR',\n",
       "       'SDMVPSU', 'SDMVSTRA', 'INDFMPIR', 'BPXSY1', 'BPXDI1', 'BPXSY2',\n",
       "       'BPXDI2', 'BMXWT', 'BMXHT', 'BMXBMI', 'BMXLEG', 'BMXARML', 'BMXARMC',\n",
       "       'BMXWAIST', 'HIQ210', 'DMDMARTLx', 'RIAGENDRx'],\n",
       "      dtype='object')"
      ]
     },
     "execution_count": 33,
     "metadata": {},
     "output_type": "execute_result"
    }
   ],
   "source": [
    "da[\"DMDMARTLx\"] = da.DMDMARTL.replace({1: \"Married\", 2: \"Widowed\", 3: \"Divorced\", 4: \"Separated\",\n",
    "                                        5: \"Never married\", 6: \"Living with partner\", 77: \"Refused\",\n",
    "                                        99: \"Don't know\"})\n",
    "\n",
    "da[\"DMDMARTLx\"] = da.DMDMARTLx.fillna(\"Missing\")\n",
    "print(\"Status frequency table - All people\\n\")\n",
    "print(da.DMDMARTLx.value_counts(), \"\\n\")\n",
    "\n",
    "da[\"RIAGENDRx\"] = da.RIAGENDR.replace({1: \"Male\", 2: \"Female\"})\n",
    "\n",
    "male = da.loc[da[\"RIAGENDRx\"] == \"Male\"]\n",
    "print(\"Status frequency table - Male\\n\")\n",
    "print(male[\"DMDMARTLx\"].value_counts(), \"\\n\")\n",
    "\n",
    "female = da.loc[da[\"RIAGENDRx\"] == \"Female\"]\n",
    "print(\"Status frequency table - Female\\n\")\n",
    "print(female[\"DMDMARTLx\"].value_counts(), \"\\n\")\n",
    "\n",
    "# print(da.groupby(\"RIAGENDRx\")[\"DMDMARTLx\"].value_counts(), \"\\n\") shows both men and female\n",
    "\n",
    "# age_interval = (da.RIDAGEYR >= 30) & (da.RIDAGEYR <= 40)\n",
    "# da[\"agegrp\"] = pd.cut(da.RIDAGEYR, [30, 40])\n",
    "\n",
    "age_interval_all = da.loc[(da.RIDAGEYR >= 30) & (da.RIDAGEYR <= 40)]\n",
    "print(\"Status frequency table - All people with age between 30-40\\n\")\n",
    "print(age_interval_all[\"DMDMARTLx\"].value_counts(), \"\\n\")\n",
    "\n",
    "age_interval_male = da.loc[(da.RIDAGEYR >= 30) & (da.RIDAGEYR <= 40) & (da.RIAGENDRx == \"Male\")]\n",
    "print(\"Status frequency table - Men with age between 30-40\\n\")\n",
    "print(age_interval_male[\"DMDMARTLx\"].value_counts(), \"\\n\")\n",
    "\n",
    "age_interval_female = da.loc[(da.RIDAGEYR >= 30) & (da.RIDAGEYR <= 40) & (da.RIAGENDRx == \"Female\")]\n",
    "print(\"Status frequency table - Women with age between 30-40\\n\")\n",
    "print(age_interval_female[\"DMDMARTLx\"].value_counts(), \"\\n\")\n",
    "\n",
    "# print(da.groupby(\"agegrp\")[\"DMDMARTLx\"].value_counts(), \"\\n\")\n",
    "# print(da.groupby([\"agegrp\", \"RIAGENDRx\"])[\"DMDMARTLx\"].value_counts(), \"\\n\")\n",
    "da.columns"
   ]
  }
 ],
 "metadata": {
  "kernelspec": {
   "display_name": "Python 3",
   "language": "python",
   "name": "python3"
  },
  "language_info": {
   "codemirror_mode": {
    "name": "ipython",
    "version": 3
   },
   "file_extension": ".py",
   "mimetype": "text/x-python",
   "name": "python",
   "nbconvert_exporter": "python",
   "pygments_lexer": "ipython3",
   "version": "3.7.7"
  }
 },
 "nbformat": 4,
 "nbformat_minor": 4
}
